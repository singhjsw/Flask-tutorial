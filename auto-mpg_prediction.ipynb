{
 "cells": [
  {
   "cell_type": "code",
   "execution_count": 1,
   "metadata": {},
   "outputs": [],
   "source": [
    "import numpy as np\n",
    "import pandas as pd\n",
    "import matplotlib.pyplot as plt\n",
    "import seaborn as sns\n",
    "import pickle\n",
    "\n",
    "from sklearn.model_selection import StratifiedShuffleSplit, train_test_split, cross_val_score, GridSearchCV\n",
    "from sklearn.impute import SimpleImputer\n",
    "from sklearn.preprocessing import StandardScaler, OneHotEncoder\n",
    "from sklearn.compose import ColumnTransformer\n",
    "from sklearn.pipeline import Pipeline\n",
    "from sklearn.base import BaseEstimator, TransformerMixin\n",
    "from sklearn.linear_model import LinearRegression\n",
    "from sklearn.tree import DecisionTreeRegressor\n",
    "from sklearn.ensemble import RandomForestRegressor\n",
    "from sklearn.svm import SVR\n",
    "from sklearn.metrics import mean_squared_error\n",
    "\n",
    "import warnings\n",
    "warnings.filterwarnings('ignore')\n",
    "\n"
   ]
  },
  {
   "cell_type": "code",
   "execution_count": 2,
   "metadata": {},
   "outputs": [],
   "source": [
    "# Define column names and load the dataset\n",
    "column_names = ['MPG','Cylinders','Displacement','Horsepower','Weight',\n",
    "                'Acceleration', 'Model Year', 'Origin']\n",
    "url = 'https://archive.ics.uci.edu/ml/machine-learning-databases/auto-mpg/auto-mpg.data'\n",
    "\n",
    "def load_data(url, column_names):\n",
    "    return pd.read_csv(url, names=column_names, na_values=\"?\", comment='\\t', sep=\" \", skipinitialspace=True)\n",
    "\n",
    "data = load_data(url, column_names)\n"
   ]
  },
  {
   "cell_type": "code",
   "execution_count": 3,
   "metadata": {},
   "outputs": [
    {
     "data": {
      "text/html": [
       "<div>\n",
       "<style scoped>\n",
       "    .dataframe tbody tr th:only-of-type {\n",
       "        vertical-align: middle;\n",
       "    }\n",
       "\n",
       "    .dataframe tbody tr th {\n",
       "        vertical-align: top;\n",
       "    }\n",
       "\n",
       "    .dataframe thead th {\n",
       "        text-align: right;\n",
       "    }\n",
       "</style>\n",
       "<table border=\"1\" class=\"dataframe\">\n",
       "  <thead>\n",
       "    <tr style=\"text-align: right;\">\n",
       "      <th></th>\n",
       "      <th>MPG</th>\n",
       "      <th>Cylinders</th>\n",
       "      <th>Displacement</th>\n",
       "      <th>Horsepower</th>\n",
       "      <th>Weight</th>\n",
       "      <th>Acceleration</th>\n",
       "      <th>Model Year</th>\n",
       "      <th>Origin</th>\n",
       "    </tr>\n",
       "  </thead>\n",
       "  <tbody>\n",
       "    <tr>\n",
       "      <th>0</th>\n",
       "      <td>18.0</td>\n",
       "      <td>8</td>\n",
       "      <td>307.0</td>\n",
       "      <td>130.0</td>\n",
       "      <td>3504.0</td>\n",
       "      <td>12.0</td>\n",
       "      <td>70</td>\n",
       "      <td>1</td>\n",
       "    </tr>\n",
       "    <tr>\n",
       "      <th>1</th>\n",
       "      <td>15.0</td>\n",
       "      <td>8</td>\n",
       "      <td>350.0</td>\n",
       "      <td>165.0</td>\n",
       "      <td>3693.0</td>\n",
       "      <td>11.5</td>\n",
       "      <td>70</td>\n",
       "      <td>1</td>\n",
       "    </tr>\n",
       "    <tr>\n",
       "      <th>2</th>\n",
       "      <td>18.0</td>\n",
       "      <td>8</td>\n",
       "      <td>318.0</td>\n",
       "      <td>150.0</td>\n",
       "      <td>3436.0</td>\n",
       "      <td>11.0</td>\n",
       "      <td>70</td>\n",
       "      <td>1</td>\n",
       "    </tr>\n",
       "    <tr>\n",
       "      <th>3</th>\n",
       "      <td>16.0</td>\n",
       "      <td>8</td>\n",
       "      <td>304.0</td>\n",
       "      <td>150.0</td>\n",
       "      <td>3433.0</td>\n",
       "      <td>12.0</td>\n",
       "      <td>70</td>\n",
       "      <td>1</td>\n",
       "    </tr>\n",
       "    <tr>\n",
       "      <th>4</th>\n",
       "      <td>17.0</td>\n",
       "      <td>8</td>\n",
       "      <td>302.0</td>\n",
       "      <td>140.0</td>\n",
       "      <td>3449.0</td>\n",
       "      <td>10.5</td>\n",
       "      <td>70</td>\n",
       "      <td>1</td>\n",
       "    </tr>\n",
       "  </tbody>\n",
       "</table>\n",
       "</div>"
      ],
      "text/plain": [
       "    MPG  Cylinders  Displacement  Horsepower  Weight  Acceleration  \\\n",
       "0  18.0          8         307.0       130.0  3504.0          12.0   \n",
       "1  15.0          8         350.0       165.0  3693.0          11.5   \n",
       "2  18.0          8         318.0       150.0  3436.0          11.0   \n",
       "3  16.0          8         304.0       150.0  3433.0          12.0   \n",
       "4  17.0          8         302.0       140.0  3449.0          10.5   \n",
       "\n",
       "   Model Year  Origin  \n",
       "0          70       1  \n",
       "1          70       1  \n",
       "2          70       1  \n",
       "3          70       1  \n",
       "4          70       1  "
      ]
     },
     "execution_count": 3,
     "metadata": {},
     "output_type": "execute_result"
    }
   ],
   "source": [
    "data.head()"
   ]
  },
  {
   "cell_type": "markdown",
   "metadata": {},
   "source": [
    "Data Preprocessing"
   ]
  },
  {
   "cell_type": "code",
   "execution_count": 4,
   "metadata": {},
   "outputs": [],
   "source": [
    "class CustomAttrAdder(BaseEstimator, TransformerMixin):\n",
    "    def __init__(self, acc_on_power=True):\n",
    "        self.acc_on_power = acc_on_power\n",
    "        self.acc_ix = 4\n",
    "        self.hpower_ix = 2\n",
    "        self.cyl_ix = 0\n",
    "        \n",
    "    def fit(self, X, y=None):\n",
    "        return self\n",
    "    \n",
    "    def transform(self, X):\n",
    "        acc_on_cyl = X[:, self.acc_ix] / X[:, self.cyl_ix]\n",
    "        if self.acc_on_power:\n",
    "            acc_on_power = X[:, self.acc_ix] / X[:, self.hpower_ix]\n",
    "            return np.c_[X, acc_on_power, acc_on_cyl]\n",
    "        return np.c_[X, acc_on_cyl]\n",
    "\n",
    "\n"
   ]
  },
  {
   "cell_type": "code",
   "execution_count": 5,
   "metadata": {},
   "outputs": [],
   "source": [
    "def preprocess_origin_cols(df):\n",
    "    df[\"Origin\"] = df[\"Origin\"].map({1: \"India\", 2: \"USA\", 3: \"Germany\"})\n",
    "    return df\n",
    "\n",
    "def num_pipeline_transformer(data):\n",
    "    numerics = ['float64', 'int64']\n",
    "    num_attrs = data.select_dtypes(include=numerics)\n",
    "    num_pipeline = Pipeline([\n",
    "        ('imputer', SimpleImputer(strategy=\"median\")),\n",
    "        ('attrs_adder', CustomAttrAdder()),\n",
    "        ('std_scaler', StandardScaler()),\n",
    "    ])\n",
    "    return num_attrs, num_pipeline\n",
    "\n",
    "def pipeline_transformer(data):\n",
    "    cat_attrs = [\"Origin\"]\n",
    "    num_attrs, num_pipeline = num_pipeline_transformer(data)\n",
    "    full_pipeline = ColumnTransformer([\n",
    "        (\"num\", num_pipeline, list(num_attrs)),\n",
    "        (\"cat\", OneHotEncoder(), cat_attrs),\n",
    "    ])\n",
    "    prepared_data = full_pipeline.fit_transform(data)\n",
    "    return prepared_data\n",
    "\n",
    "def preprocess_data(data):\n",
    "    data_preprocessed = preprocess_origin_cols(data)\n",
    "    prepared_data = pipeline_transformer(data_preprocessed)\n",
    "    return prepared_data\n",
    "\n",
    "def stratified_split(data, test_size=0.2, random_state=42):\n",
    "    split = StratifiedShuffleSplit(n_splits=1, test_size=test_size, random_state=random_state)\n",
    "    for train_index, test_index in split.split(data, data[\"Cylinders\"]):\n",
    "        strat_train_set = data.loc[train_index]\n",
    "        strat_test_set = data.loc[test_index]\n",
    "    return strat_train_set, strat_test_set"
   ]
  },
  {
   "cell_type": "code",
   "execution_count": 6,
   "metadata": {},
   "outputs": [],
   "source": [
    "strat_train_set, strat_test_set = stratified_split(data)\n",
    "train_data = strat_train_set.drop(\"MPG\", axis=1)\n",
    "train_labels = strat_train_set[\"MPG\"].copy()\n",
    "test_data = strat_test_set.drop(\"MPG\", axis=1)\n",
    "test_labels = strat_test_set[\"MPG\"].copy()\n",
    "\n",
    "train_prepared = preprocess_data(train_data)\n",
    "test_prepared = preprocess_data(test_data)"
   ]
  },
  {
   "cell_type": "code",
   "execution_count": null,
   "metadata": {},
   "outputs": [],
   "source": []
  },
  {
   "cell_type": "code",
   "execution_count": null,
   "metadata": {},
   "outputs": [],
   "source": []
  },
  {
   "cell_type": "markdown",
   "metadata": {},
   "source": [
    "Model Training and Evaluation"
   ]
  },
  {
   "cell_type": "code",
   "execution_count": 7,
   "metadata": {},
   "outputs": [
    {
     "name": "stdout",
     "output_type": "stream",
     "text": [
      "Linear Regression RMSE: 3.2820016228546476\n",
      "Decision Tree RMSE: 4.405649781814256\n",
      "Random Forest CV RMSE: 2.593864800593029\n",
      "SVM CV RMSE: 3.086591620802809\n"
     ]
    }
   ],
   "source": [
    "def train_model(model, train_data, train_labels):\n",
    "    model.fit(train_data, train_labels)\n",
    "    return model\n",
    "\n",
    "def evaluate_model(model, test_data, test_labels):\n",
    "    predictions = model.predict(test_data)\n",
    "    mse = mean_squared_error(test_labels, predictions)\n",
    "    rmse = np.sqrt(mse)\n",
    "    return rmse\n",
    "\n",
    "def cross_validate(model, train_data, train_labels, cv=10):\n",
    "    scores = cross_val_score(model, train_data, train_labels, scoring=\"neg_mean_squared_error\", cv=cv)\n",
    "    rmse_scores = np.sqrt(-scores)\n",
    "    return rmse_scores.mean()\n",
    "\n",
    "lin_reg = train_model(LinearRegression(), train_prepared, train_labels)\n",
    "tree_reg = train_model(DecisionTreeRegressor(), train_prepared, train_labels)\n",
    "forest_reg = train_model(RandomForestRegressor(), train_prepared, train_labels)\n",
    "svm_reg = train_model(SVR(kernel='linear'), train_prepared, train_labels)\n",
    "\n",
    "lin_rmse = evaluate_model(lin_reg, test_prepared, test_labels)\n",
    "tree_rmse = evaluate_model(tree_reg, test_prepared, test_labels)\n",
    "forest_rmse = cross_validate(forest_reg, train_prepared, train_labels)\n",
    "svm_rmse = cross_validate(svm_reg, train_prepared, train_labels)\n",
    "\n",
    "print(f'Linear Regression RMSE: {lin_rmse}')\n",
    "print(f'Decision Tree RMSE: {tree_rmse}')\n",
    "print(f'Random Forest CV RMSE: {forest_rmse}')\n",
    "print(f'SVM CV RMSE: {svm_rmse}')\n"
   ]
  },
  {
   "cell_type": "code",
   "execution_count": null,
   "metadata": {},
   "outputs": [],
   "source": []
  },
  {
   "cell_type": "markdown",
   "metadata": {},
   "source": [
    "Hyperparameter tuning"
   ]
  },
  {
   "cell_type": "code",
   "execution_count": 8,
   "metadata": {},
   "outputs": [],
   "source": [
    "# Perform cross-validation and print CV scores for different models\n",
    "\n",
    "def print_cv_scores(model, prepared_data, data_labels, cv=10):\n",
    "    scores = cross_val_score(model, prepared_data, data_labels, scoring=\"neg_mean_squared_error\", cv=cv)\n",
    "    rmse_scores = np.sqrt(-scores)\n",
    "    print(f'{model.__class__.__name__} CV RMSE Scores: {rmse_scores}')\n",
    "    print(f'{model.__class__.__name__} CV RMSE Mean: {rmse_scores.mean()}')\n",
    "    print(f'{model.__class__.__name__} CV RMSE Standard Deviation: {rmse_scores.std()}')\n",
    "    return rmse_scores\n",
    "\n"
   ]
  },
  {
   "cell_type": "code",
   "execution_count": 9,
   "metadata": {},
   "outputs": [
    {
     "name": "stdout",
     "output_type": "stream",
     "text": [
      "LinearRegression CV RMSE Scores: [3.43254597 3.45157629 3.6621715  2.59652976 2.48023405 2.74798115\n",
      " 3.32524647 2.42208917 3.78133275 2.8573747 ]\n",
      "LinearRegression CV RMSE Mean: 3.075708179370932\n",
      "LinearRegression CV RMSE Standard Deviation: 0.483654669078112\n",
      "DecisionTreeRegressor CV RMSE Scores: [2.9375266  2.95148268 2.9460779  3.48819438 2.33057128 2.89946116\n",
      " 3.4700054  4.20026041 4.23449734 2.47138462]\n",
      "DecisionTreeRegressor CV RMSE Mean: 3.192946176257158\n",
      "DecisionTreeRegressor CV RMSE Standard Deviation: 0.6163121638153273\n",
      "RandomForestRegressor CV RMSE Scores: [2.12772414 2.50380232 2.71243648 2.41408267 2.04792082 2.528754\n",
      " 2.66922799 2.63846972 4.06249368 1.89640034]\n",
      "RandomForestRegressor CV RMSE Mean: 2.5601312167883963\n",
      "RandomForestRegressor CV RMSE Standard Deviation: 0.5668942226556964\n",
      "SVR CV RMSE Scores: [3.52759194 3.10435954 3.6573445  2.83823604 2.56665123 2.68448844\n",
      " 3.4378112  2.34802163 3.85665021 2.84476148]\n",
      "SVR CV RMSE Mean: 3.086591620802809\n",
      "SVR CV RMSE Standard Deviation: 0.48317431269019334\n"
     ]
    }
   ],
   "source": [
    "# Cross-validate models\n",
    "lin_reg_scores = print_cv_scores(LinearRegression(), train_prepared, train_labels)\n",
    "tree_reg_scores = print_cv_scores(DecisionTreeRegressor(), train_prepared, train_labels)\n",
    "forest_reg_scores = print_cv_scores(RandomForestRegressor(), train_prepared, train_labels)\n",
    "svm_reg_scores = print_cv_scores(SVR(kernel='linear'), train_prepared, train_labels)"
   ]
  },
  {
   "cell_type": "code",
   "execution_count": 10,
   "metadata": {},
   "outputs": [
    {
     "name": "stdout",
     "output_type": "stream",
     "text": [
      "Best Parameters: {'max_features': 8, 'n_estimators': 30}\n",
      "Final Model RMSE on Test Data: 3.1643660502539848\n"
     ]
    }
   ],
   "source": [
    "# Hyperparameter Tuning\n",
    "param_grid = [\n",
    "    {'n_estimators': [3, 10, 30], 'max_features': [2, 4, 6, 8]},\n",
    "    {'bootstrap': [False], 'n_estimators': [3, 10], 'max_features': [2, 3, 4]},\n",
    "]\n",
    "\n",
    "grid_search = GridSearchCV(RandomForestRegressor(), param_grid, scoring='neg_mean_squared_error', return_train_score=True, cv=10)\n",
    "grid_search.fit(train_prepared, train_labels)\n",
    "\n",
    "best_model = grid_search.best_estimator_\n",
    "print(f'Best Parameters: {grid_search.best_params_}')\n",
    "\n",
    "# Final Evaluation on Test Data\n",
    "final_model = best_model\n",
    "final_rmse = evaluate_model(final_model, test_prepared, test_labels)\n",
    "print(f'Final Model RMSE on Test Data: {final_rmse}')\n"
   ]
  },
  {
   "cell_type": "code",
   "execution_count": 11,
   "metadata": {},
   "outputs": [],
   "source": [
    "def save_model(model, filename=\"model.bin\"):\n",
    "    with open(filename, 'wb') as f_out:\n",
    "        pickle.dump(model, f_out)\n",
    "\n",
    "def load_model(filename=\"model.bin\"):\n",
    "    with open(filename, 'rb') as f_in:\n",
    "        return pickle.load(f_in)\n",
    "\n",
    "save_model(final_model)\n",
    "loaded_model = load_model()\n"
   ]
  },
  {
   "cell_type": "code",
   "execution_count": null,
   "metadata": {},
   "outputs": [],
   "source": []
  },
  {
   "cell_type": "markdown",
   "metadata": {},
   "source": [
    "Prediction Function"
   ]
  },
  {
   "cell_type": "code",
   "execution_count": 12,
   "metadata": {},
   "outputs": [
    {
     "name": "stdout",
     "output_type": "stream",
     "text": [
      "Predictions: [32.58333333 17.48666667 20.15333333]\n"
     ]
    }
   ],
   "source": [
    "def predict_mpg(config, model):\n",
    "    if isinstance(config, dict):\n",
    "        df = pd.DataFrame(config)\n",
    "    else:\n",
    "        df = config\n",
    "\n",
    "    preprocessed_df = preprocess_origin_cols(df)\n",
    "    prepared_df = pipeline_transformer(preprocessed_df)\n",
    "    return model.predict(prepared_df)\n",
    "\n",
    "vehicle_config = {\n",
    "    'Cylinders': [4, 6, 8],\n",
    "    'Displacement': [155.0, 160.0, 165.5],\n",
    "    'Horsepower': [93.0, 130.0, 98.0],\n",
    "    'Weight': [2500.0, 3150.0, 2600.0],\n",
    "    'Acceleration': [15.0, 14.0, 16.0],\n",
    "    'Model Year': [81, 80, 78],\n",
    "    'Origin': [3, 2, 1]\n",
    "}\n",
    "\n",
    "predictions = predict_mpg(vehicle_config, loaded_model)\n",
    "print(f'Predictions: {predictions}')\n"
   ]
  },
  {
   "cell_type": "code",
   "execution_count": null,
   "metadata": {},
   "outputs": [],
   "source": []
  },
  {
   "cell_type": "code",
   "execution_count": null,
   "metadata": {},
   "outputs": [],
   "source": []
  },
  {
   "cell_type": "code",
   "execution_count": null,
   "metadata": {},
   "outputs": [],
   "source": []
  }
 ],
 "metadata": {
  "kernelspec": {
   "display_name": "FlaskEnv",
   "language": "python",
   "name": "python3"
  },
  "language_info": {
   "codemirror_mode": {
    "name": "ipython",
    "version": 3
   },
   "file_extension": ".py",
   "mimetype": "text/x-python",
   "name": "python",
   "nbconvert_exporter": "python",
   "pygments_lexer": "ipython3",
   "version": "3.11.5"
  }
 },
 "nbformat": 4,
 "nbformat_minor": 2
}
